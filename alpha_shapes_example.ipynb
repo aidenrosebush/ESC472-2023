{
  "cells": [
    {
      "cell_type": "code",
      "execution_count": null,
      "metadata": {
        "colab": {
          "base_uri": "https://localhost:8080/"
        },
        "id": "K1LY3VMGFuaO",
        "outputId": "7c6a3963-94e2-4cf5-ed6a-d56c10b4c1ca"
      },
      "outputs": [
        {
          "name": "stdout",
          "output_type": "stream",
          "text": [
            "Looking in indexes: https://pypi.org/simple, https://us-python.pkg.dev/colab-wheels/public/simple/\n",
            "Collecting alpha_shapes\n",
            "  Downloading alpha_shapes-1.0.3-py3-none-any.whl (7.7 kB)\n",
            "Requirement already satisfied: matplotlib in /usr/local/lib/python3.9/dist-packages (from alpha_shapes) (3.7.1)\n",
            "Requirement already satisfied: numpy in /usr/local/lib/python3.9/dist-packages (from alpha_shapes) (1.22.4)\n",
            "Requirement already satisfied: shapely in /usr/local/lib/python3.9/dist-packages (from alpha_shapes) (2.0.1)\n",
            "Requirement already satisfied: fonttools>=4.22.0 in /usr/local/lib/python3.9/dist-packages (from matplotlib->alpha_shapes) (4.39.3)\n",
            "Requirement already satisfied: packaging>=20.0 in /usr/local/lib/python3.9/dist-packages (from matplotlib->alpha_shapes) (23.0)\n",
            "Requirement already satisfied: pillow>=6.2.0 in /usr/local/lib/python3.9/dist-packages (from matplotlib->alpha_shapes) (8.4.0)\n",
            "Requirement already satisfied: contourpy>=1.0.1 in /usr/local/lib/python3.9/dist-packages (from matplotlib->alpha_shapes) (1.0.7)\n",
            "Requirement already satisfied: kiwisolver>=1.0.1 in /usr/local/lib/python3.9/dist-packages (from matplotlib->alpha_shapes) (1.4.4)\n",
            "Requirement already satisfied: python-dateutil>=2.7 in /usr/local/lib/python3.9/dist-packages (from matplotlib->alpha_shapes) (2.8.2)\n",
            "Requirement already satisfied: cycler>=0.10 in /usr/local/lib/python3.9/dist-packages (from matplotlib->alpha_shapes) (0.11.0)\n",
            "Requirement already satisfied: importlib-resources>=3.2.0 in /usr/local/lib/python3.9/dist-packages (from matplotlib->alpha_shapes) (5.12.0)\n",
            "Requirement already satisfied: pyparsing>=2.3.1 in /usr/local/lib/python3.9/dist-packages (from matplotlib->alpha_shapes) (3.0.9)\n",
            "Requirement already satisfied: zipp>=3.1.0 in /usr/local/lib/python3.9/dist-packages (from importlib-resources>=3.2.0->matplotlib->alpha_shapes) (3.15.0)\n",
            "Requirement already satisfied: six>=1.5 in /usr/local/lib/python3.9/dist-packages (from python-dateutil>=2.7->matplotlib->alpha_shapes) (1.16.0)\n",
            "Installing collected packages: alpha_shapes\n",
            "Successfully installed alpha_shapes-1.0.3\n"
          ]
        }
      ],
      "source": [
        "pip install alpha_shapes"
      ]
    },
    {
      "cell_type": "code",
      "execution_count": 13,
      "metadata": {
        "colab": {
          "base_uri": "https://localhost:8080/",
          "height": 230
        },
        "id": "SLBdzqnl4eWx",
        "outputId": "04a0d075-b7f2-409b-ba77-8b22d635efc9"
      },
      "outputs": [
        {
          "data": {
            "image/png": "[encoded data removed]",
            "text/plain": [
              "<Figure size 640x480 with 3 Axes>"
            ]
          },
          "metadata": {},
          "output_type": "display_data"
        }
      ],
      "source": [
        "from alpha_shapes import Alpha_Shaper, plot_alpha_shape\n",
        "from osgeo import ogr\n",
        "import numpy as np\n",
        "import numpy.typing as npt\n",
        "import matplotlib.pyplot as plt\n",
        "\n",
        "\n",
        "def matrix2points_corners(matrix:npt.ArrayLike) -> list:\n",
        "    points = []\n",
        "    for y in range(matrix.shape[0]):\n",
        "        for x in range(matrix.shape[1]):\n",
        "            if matrix[y,x] == 1:\n",
        "                points.append((x,y))\n",
        "                points.append((x+1,y))\n",
        "                points.append((x,y+1))\n",
        "                points.append((x+1,y+1))\n",
        "\n",
        "    return list(set(points))\n",
        "\n",
        "\n",
        "def matrix2points_centre(matrix:npt.ArrayLike) -> list:\n",
        "    points = []\n",
        "    for y in range(matrix.shape[0]):\n",
        "        for x in range(matrix.shape[1]):\n",
        "            if matrix[y,x] == 1:\n",
        "                points.append((x+0.5,y+0.5))\n",
        "\n",
        "    return list(set(points))\n",
        "\n",
        "\n",
        "def save_alpha_shape_to_shpfile(alphashape, filename='alpha_shape.shp'):\n",
        "\n",
        "    driver = ogr.GetDriverByName('Esri Shapefile')\n",
        "    ds = driver.CreateDataSource(f'{filename}')\n",
        "    layer = ds.CreateLayer('', None, ogr.wkbPolygon)\n",
        "    layer.CreateField(ogr.FieldDefn('id', ogr.OFTInteger))\n",
        "    defn = layer.GetLayerDefn()\n",
        "\n",
        "    feat = ogr.Feature(defn)\n",
        "    feat.SetField('id', 123)\n",
        "\n",
        "    geom = ogr.CreateGeometryFromWkb(alphashape.wkb)\n",
        "    feat.SetGeometry(geom)\n",
        "\n",
        "    layer.CreateFeature(feat)\n",
        "    feat = geom = None  # destroy these\n",
        "\n",
        "    # Save and close everything\n",
        "    ds = layer = feat = geom = None\n",
        "    \n",
        "    return\n",
        "\n",
        "\n",
        "if __name__ == \"__main__\":\n",
        "\n",
        "    # Complex matrix for testing\n",
        "    M0 = np.load(\"./visible_points.npy\")\n",
        "\n",
        "    # Simple matrices for testing\n",
        "    M1 = np.array([[0,0,0],[0,1,0],[0,0,0],[0,0,0]]) # single point\n",
        "    M2 = np.array([[1,1,1,1],[1,0,0,1],[1,0,0,1],[1,0,0,1]]) # U shape\n",
        "    M3 = np.array([[1,1,1,1],[1,0,0,1],[1,0,0,1],[1,1,1,1]]) # small hole\n",
        "    M4 = np.array([[1,1,1,1,1,1,1,1],[1,0,0,0,0,0,0,1],[1,0,0,0,0,0,0,1],[1,1,1,1,1,1,1,1]]) # big hole\n",
        "    M5 = np.array([[1,0,0,1],[1,0,0,1],[1,0,0,1],[0,0,0,0]]) # divided set\n",
        "\n",
        "    matrix_to_run = M0\n",
        "    matrix_points_corners = matrix2points_corners(matrix_to_run)\n",
        "    matrix_points_centre = matrix2points_centre(matrix_to_run)\n",
        "\n",
        "    alpha_auto = False\n",
        "    alpha = 100\n",
        "    alpha_shaper = Alpha_Shaper(matrix_points_corners)\n",
        "    if alpha_auto:\n",
        "        alpha, alpha_shape = alpha_shaper.optimize()\n",
        "    else:\n",
        "        alpha_shape = alpha_shaper.get_shape(alpha=alpha)\n",
        "\n",
        "    save = True\n",
        "    save_to = './alpha_shape.shp'\n",
        "    if save:\n",
        "        save_alpha_shape_to_shpfile(alpha_shape, save_to)\n",
        "\n",
        "    # Plot matrix, points, and polygons\n",
        "    fig, (ax0, ax1, ax2) = plt.subplots(1, 3, sharex=True, sharey=True)\n",
        "\n",
        "    ax0.pcolormesh(matrix_to_run)\n",
        "    ax0.set_title('Matrix')\n",
        "    ax0.axis('scaled')\n",
        "\n",
        "    ax1.scatter(*zip(*matrix_points_corners))\n",
        "    ax1.set_title(\"Points\")\n",
        "\n",
        "    plot_alpha_shape(ax2, alpha_shape)\n",
        "    ax2.set_title(f\"Polygon $\\\\alpha={np.round(alpha,2)}$\")\n",
        "\n",
        "    for ax in (ax0, ax1, ax2):\n",
        "        ax.set_aspect('equal')\n",
        "\n",
        "    plt.show()"
      ]
    }
  ],
  "metadata": {
    "colab": {
      "provenance": []
    },
    "kernelspec": {
      "display_name": "Python 3",
      "name": "python3"
    },
    "language_info": {
      "name": "python"
    }
  },
  "nbformat": 4,
  "nbformat_minor": 0
}
