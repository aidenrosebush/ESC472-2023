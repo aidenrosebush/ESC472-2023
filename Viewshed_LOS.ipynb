{
  "nbformat": 4,
  "nbformat_minor": 0,
  "metadata": {
    "colab": {
      "provenance": [],
      "authorship_tag": "ABX9TyNfyoVa10XA3bAKtVLUrYLn",
      "include_colab_link": true
    },
    "kernelspec": {
      "name": "python3",
      "display_name": "Python 3"
    },
    "language_info": {
      "name": "python"
    }
  },
  "cells": [
    {
      "cell_type": "markdown",
      "metadata": {
        "id": "view-in-github",
        "colab_type": "text"
      },
      "source": [
        "<a href=\"https://colab.research.google.com/github/aidenrosebush/ESC472-2023/blob/main/Viewshed_LOS.ipynb\" target=\"_parent\"><img src=\"https://colab.research.google.com/assets/colab-badge.svg\" alt=\"Open In Colab\"/></a>"
      ]
    },
    {
      "cell_type": "code",
      "source": [
        "pip install tcod"
      ],
      "metadata": {
        "colab": {
          "base_uri": "https://localhost:8080/"
        },
        "id": "7XIK4ixLXNW8",
        "outputId": "456401ff-98d3-4e48-8b0a-a99c1ce6047d"
      },
      "execution_count": 1,
      "outputs": [
        {
          "output_type": "stream",
          "name": "stdout",
          "text": [
            "Looking in indexes: https://pypi.org/simple, https://us-python.pkg.dev/colab-wheels/public/simple/\n",
            "Collecting tcod\n",
            "  Downloading tcod-15.0.0-cp36-abi3-manylinux_2_17_x86_64.manylinux2014_x86_64.whl (3.4 MB)\n",
            "\u001b[2K     \u001b[90m━━━━━━━━━━━━━━━━━━━━━━━━━━━━━━━━━━━━━━━━\u001b[0m \u001b[32m3.4/3.4 MB\u001b[0m \u001b[31m16.0 MB/s\u001b[0m eta \u001b[36m0:00:00\u001b[0m\n",
            "\u001b[?25hRequirement already satisfied: typing-extensions in /usr/local/lib/python3.9/dist-packages (from tcod) (4.5.0)\n",
            "Requirement already satisfied: numpy>=1.21.4 in /usr/local/lib/python3.9/dist-packages (from tcod) (1.22.4)\n",
            "Requirement already satisfied: cffi>=1.15 in /usr/local/lib/python3.9/dist-packages (from tcod) (1.15.1)\n",
            "Requirement already satisfied: pycparser in /usr/local/lib/python3.9/dist-packages (from cffi>=1.15->tcod) (2.21)\n",
            "Installing collected packages: tcod\n",
            "Successfully installed tcod-15.0.0\n"
          ]
        }
      ]
    },
    {
      "cell_type": "code",
      "execution_count": 16,
      "metadata": {
        "id": "GNg0YYX0V1nO"
      },
      "outputs": [],
      "source": [
        "import tcod\n",
        "import numpy as np\n",
        "import matplotlib.pyplot as plt\n",
        "\n",
        "def getTestPoints(map, point, direction, r):\n",
        "  testPoints = [] #points on the same side as the ad is facing\n",
        "  for i in range(0, len(map), 1): \n",
        "    for j in range(0, len(map[0]), 1):\n",
        "      relativeTestPoint = np.array([i-point[0],j-point[1]])\n",
        "      #if the point is on the right side of the billboard and is within visible range\n",
        "      if np.dot(relativeTestPoint, direction) >= 0 and np.sqrt(np.dot(relativeTestPoint, relativeTestPoint)) <= r:\n",
        "        testPoints += [np.array([i,j])]\n",
        "  return testPoints\n",
        "def plotTestPoints(map, testPoints):\n",
        "  fig, ax = plt.subplots()\n",
        "  coloredMap = np.zeros((len(map), len(map[0])))\n",
        "  for testPoint in testPoints:\n",
        "    coloredMap[testPoint[0], testPoint[1]] = 1\n",
        "  ax.imshow(coloredMap)\n",
        "  ax.set_title('Test Points')\n",
        "  return\n",
        "def plotMap(map):\n",
        "  fig, ax = plt.subplots()\n",
        "  im = ax.imshow(map)\n",
        "  ax.set_title('Elevation Map')\n",
        "  fig.colorbar(im, ax=ax, label='Elevation')\n",
        "def fitSightLine(map, point, testPoint, elevation):\n",
        "  # y-y0 = m*(r)\n",
        "  m = (map[testPoint[0]][testPoint[1]]-elevation)/(np.sqrt(sum((point-testPoint)**2)))\n",
        "  return m\n",
        "def getViewshed(map, point, direction, r, elevation):\n",
        "  point = np.array(point)\n",
        "  t = getTestPoints(map, point, direction, r)\n",
        "  plotMap(map)\n",
        "  plotTestPoints(map, t)\n",
        "  line = []\n",
        "  visiblePoints = [point]\n",
        "\n",
        "  for testPoint in t:\n",
        "    if testPoint[0] != point[0] or testPoint[1] != point[1]: #don't consider the ad location itself\n",
        "      elevations = []\n",
        "      line = tcod.los.bresenham(point,testPoint) #get grid coordinates to search through\n",
        "      max = -1 #elevation data must bottom out at 0\n",
        "      m = 0 #store slope of top sightline\n",
        "      m_test = 0 #store slope of sightline of test point when the test point is not above any point yet seen\n",
        "      m = fitSightLine(map, point, line[1], elevation)\n",
        "      visiblePoints += [line[1]]\n",
        "      for i in range(2, len(line), 1):\n",
        "        m_test = fitSightLine(map, point, line[i], elevation)\n",
        "        if m_test >= m:\n",
        "          m = m_test\n",
        "          visiblePoints += [line[i]]\n",
        "  return visiblePoints\n",
        "def plotVisiblePoints(map, visiblePoints):\n",
        "  fig, ax = plt.subplots()\n",
        "  coloredMap = np.zeros((len(map), len(map[0])))\n",
        "  for point in visiblePoints:\n",
        "    coloredMap[point[0], point[1]] = 1\n",
        "  ax.imshow(coloredMap)\n",
        "  ax.set_title('Visible Points')\n",
        "  return\n",
        "def addBuildingSquare(map, x_left,x_right,y_bottom,y_top, height):\n",
        "  for x in range(x_left,x_right,1):\n",
        "    for y in range(y_bottom, y_top, 1):\n",
        "      map[x][y] = height\n",
        "  return map\n"
      ]
    },
    {
      "cell_type": "code",
      "source": [
        "map = np.zeros((100,100))\n",
        "scale = 1\n",
        "map = addBuildingSquare(map, 30*scale,40*scale,30*scale,40*scale,25)\n",
        "map = addBuildingSquare(map, 70*scale,75*scale,80*scale,85*scale,30)\n",
        "map = addBuildingSquare(map, 20*scale,30*scale,50*scale,60*scale,22)\n",
        "map = addBuildingSquare(map, 20*scale,35*scale,75*scale,80*scale,25)\n",
        "point = [50,50]\n",
        "direction = [1,-1]\n",
        "r = 60\n",
        "elevation = 0\n",
        "v = getViewshed(map, point, direction, r, elevation)\n",
        "plotVisiblePoints(map, v)\n"
      ],
      "metadata": {
        "colab": {
          "base_uri": "https://localhost:8080/",
          "height": 809
        },
        "id": "m1QzS8hCcFIp",
        "outputId": "b625e1e7-f8dd-4fbe-c8f7-5d642fceb30b"
      },
      "execution_count": 15,
      "outputs": [
        {
          "output_type": "display_data",
          "data": {
            "text/plain": [
              "<Figure size 432x288 with 2 Axes>"
            ],
            "image/png": "[encoded data removed]"
          },
          "metadata": {
            "needs_background": "light"
          }
        },
        {
          "output_type": "display_data",
          "data": {
            "text/plain": [
              "<Figure size 432x288 with 1 Axes>"
            ],
            "image/png": "[encoded data removed]"
          },
          "metadata": {
            "needs_background": "light"
          }
        },
        {
          "output_type": "display_data",
          "data": {
            "text/plain": [
              "<Figure size 432x288 with 1 Axes>"
            ],
            "image/png": "[encoded data removed]"
          },
          "metadata": {
            "needs_background": "light"
          }
        }
      ]
    }
  ]
}